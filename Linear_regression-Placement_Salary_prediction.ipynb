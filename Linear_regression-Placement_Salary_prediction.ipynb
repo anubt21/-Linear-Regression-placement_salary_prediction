{
 "cells": [
  {
   "cell_type": "code",
   "execution_count": null,
   "metadata": {},
   "outputs": [],
   "source": [
    "!pip install numpy\n"
   ]
  },
  {
   "cell_type": "code",
   "execution_count": 2,
   "metadata": {},
   "outputs": [],
   "source": [
    "import warnings\n",
    "warnings.simplefilter(\"ignore\")"
   ]
  },
  {
   "cell_type": "code",
   "execution_count": 15,
   "metadata": {},
   "outputs": [],
   "source": [
    "import numpy as np\n",
    "import pandas as pd\n",
    "import matplotlib.pyplot as plt\n",
    "%matplotlib inline"
   ]
  },
  {
   "cell_type": "code",
   "execution_count": 24,
   "metadata": {},
   "outputs": [
    {
     "data": {
      "text/html": [
       "<div>\n",
       "<style scoped>\n",
       "    .dataframe tbody tr th:only-of-type {\n",
       "        vertical-align: middle;\n",
       "    }\n",
       "\n",
       "    .dataframe tbody tr th {\n",
       "        vertical-align: top;\n",
       "    }\n",
       "\n",
       "    .dataframe thead th {\n",
       "        text-align: right;\n",
       "    }\n",
       "</style>\n",
       "<table border=\"1\" class=\"dataframe\">\n",
       "  <thead>\n",
       "    <tr style=\"text-align: right;\">\n",
       "      <th></th>\n",
       "      <th>S.No.</th>\n",
       "      <th>gender</th>\n",
       "      <th>10th %</th>\n",
       "      <th>12th %</th>\n",
       "      <th>12th stream</th>\n",
       "      <th>Undergraduate %</th>\n",
       "      <th>Undergraduate Field</th>\n",
       "      <th>Employability test %</th>\n",
       "      <th>Status</th>\n",
       "      <th>Salary</th>\n",
       "    </tr>\n",
       "  </thead>\n",
       "  <tbody>\n",
       "    <tr>\n",
       "      <th>0</th>\n",
       "      <td>1</td>\n",
       "      <td>M</td>\n",
       "      <td>67.00</td>\n",
       "      <td>91.00</td>\n",
       "      <td>Commerce</td>\n",
       "      <td>58.00</td>\n",
       "      <td>Sci&amp;Tech</td>\n",
       "      <td>55.0</td>\n",
       "      <td>1</td>\n",
       "      <td>270000</td>\n",
       "    </tr>\n",
       "    <tr>\n",
       "      <th>1</th>\n",
       "      <td>2</td>\n",
       "      <td>M</td>\n",
       "      <td>79.33</td>\n",
       "      <td>78.33</td>\n",
       "      <td>Science</td>\n",
       "      <td>77.48</td>\n",
       "      <td>Sci&amp;Tech</td>\n",
       "      <td>86.5</td>\n",
       "      <td>1</td>\n",
       "      <td>200000</td>\n",
       "    </tr>\n",
       "    <tr>\n",
       "      <th>2</th>\n",
       "      <td>3</td>\n",
       "      <td>M</td>\n",
       "      <td>65.00</td>\n",
       "      <td>68.00</td>\n",
       "      <td>Arts</td>\n",
       "      <td>64.00</td>\n",
       "      <td>Comm&amp;Mgmt</td>\n",
       "      <td>75.0</td>\n",
       "      <td>1</td>\n",
       "      <td>250000</td>\n",
       "    </tr>\n",
       "    <tr>\n",
       "      <th>3</th>\n",
       "      <td>4</td>\n",
       "      <td>M</td>\n",
       "      <td>56.00</td>\n",
       "      <td>52.00</td>\n",
       "      <td>Science</td>\n",
       "      <td>52.00</td>\n",
       "      <td>Sci&amp;Tech</td>\n",
       "      <td>66.0</td>\n",
       "      <td>0</td>\n",
       "      <td>0</td>\n",
       "    </tr>\n",
       "    <tr>\n",
       "      <th>4</th>\n",
       "      <td>5</td>\n",
       "      <td>M</td>\n",
       "      <td>85.80</td>\n",
       "      <td>73.60</td>\n",
       "      <td>Commerce</td>\n",
       "      <td>73.30</td>\n",
       "      <td>Comm&amp;Mgmt</td>\n",
       "      <td>96.8</td>\n",
       "      <td>1</td>\n",
       "      <td>425000</td>\n",
       "    </tr>\n",
       "  </tbody>\n",
       "</table>\n",
       "</div>"
      ],
      "text/plain": [
       "   S.No. gender  10th %  12th % 12th stream  Undergraduate %  \\\n",
       "0      1      M   67.00   91.00    Commerce            58.00   \n",
       "1      2      M   79.33   78.33     Science            77.48   \n",
       "2      3      M   65.00   68.00        Arts            64.00   \n",
       "3      4      M   56.00   52.00     Science            52.00   \n",
       "4      5      M   85.80   73.60    Commerce            73.30   \n",
       "\n",
       "  Undergraduate Field  Employability test %  Status  Salary  \n",
       "0            Sci&Tech                  55.0       1  270000  \n",
       "1            Sci&Tech                  86.5       1  200000  \n",
       "2           Comm&Mgmt                  75.0       1  250000  \n",
       "3            Sci&Tech                  66.0       0       0  \n",
       "4           Comm&Mgmt                  96.8       1  425000  "
      ]
     },
     "execution_count": 24,
     "metadata": {},
     "output_type": "execute_result"
    }
   ],
   "source": [
    "dataset = pd.read_csv(\"Placement_Data_Full_Class.csv\")\n",
    "dataset.head()"
   ]
  },
  {
   "cell_type": "code",
   "execution_count": 17,
   "metadata": {},
   "outputs": [
    {
     "data": {
      "text/plain": [
       "(215, 10)"
      ]
     },
     "execution_count": 17,
     "metadata": {},
     "output_type": "execute_result"
    }
   ],
   "source": [
    "dataset.shape"
   ]
  },
  {
   "cell_type": "code",
   "execution_count": 25,
   "metadata": {},
   "outputs": [
    {
     "data": {
      "text/html": [
       "<div>\n",
       "<style scoped>\n",
       "    .dataframe tbody tr th:only-of-type {\n",
       "        vertical-align: middle;\n",
       "    }\n",
       "\n",
       "    .dataframe tbody tr th {\n",
       "        vertical-align: top;\n",
       "    }\n",
       "\n",
       "    .dataframe thead th {\n",
       "        text-align: right;\n",
       "    }\n",
       "</style>\n",
       "<table border=\"1\" class=\"dataframe\">\n",
       "  <thead>\n",
       "    <tr style=\"text-align: right;\">\n",
       "      <th></th>\n",
       "      <th>S.No.</th>\n",
       "      <th>gender</th>\n",
       "      <th>10th %</th>\n",
       "      <th>12th %</th>\n",
       "      <th>12th stream</th>\n",
       "      <th>Undergraduate %</th>\n",
       "      <th>Undergraduate Field</th>\n",
       "      <th>Employability test %</th>\n",
       "      <th>Status</th>\n",
       "      <th>Salary</th>\n",
       "    </tr>\n",
       "  </thead>\n",
       "  <tbody>\n",
       "    <tr>\n",
       "      <th>0</th>\n",
       "      <td>1</td>\n",
       "      <td>M</td>\n",
       "      <td>67.00</td>\n",
       "      <td>91.00</td>\n",
       "      <td>Commerce</td>\n",
       "      <td>58.00</td>\n",
       "      <td>Sci&amp;Tech</td>\n",
       "      <td>55.0</td>\n",
       "      <td>1</td>\n",
       "      <td>270000</td>\n",
       "    </tr>\n",
       "    <tr>\n",
       "      <th>1</th>\n",
       "      <td>2</td>\n",
       "      <td>M</td>\n",
       "      <td>79.33</td>\n",
       "      <td>78.33</td>\n",
       "      <td>Science</td>\n",
       "      <td>77.48</td>\n",
       "      <td>Sci&amp;Tech</td>\n",
       "      <td>86.5</td>\n",
       "      <td>1</td>\n",
       "      <td>200000</td>\n",
       "    </tr>\n",
       "    <tr>\n",
       "      <th>2</th>\n",
       "      <td>3</td>\n",
       "      <td>M</td>\n",
       "      <td>65.00</td>\n",
       "      <td>68.00</td>\n",
       "      <td>Arts</td>\n",
       "      <td>64.00</td>\n",
       "      <td>Comm&amp;Mgmt</td>\n",
       "      <td>75.0</td>\n",
       "      <td>1</td>\n",
       "      <td>250000</td>\n",
       "    </tr>\n",
       "    <tr>\n",
       "      <th>3</th>\n",
       "      <td>4</td>\n",
       "      <td>M</td>\n",
       "      <td>56.00</td>\n",
       "      <td>52.00</td>\n",
       "      <td>Science</td>\n",
       "      <td>52.00</td>\n",
       "      <td>Sci&amp;Tech</td>\n",
       "      <td>66.0</td>\n",
       "      <td>0</td>\n",
       "      <td>0</td>\n",
       "    </tr>\n",
       "    <tr>\n",
       "      <th>4</th>\n",
       "      <td>5</td>\n",
       "      <td>M</td>\n",
       "      <td>85.80</td>\n",
       "      <td>73.60</td>\n",
       "      <td>Commerce</td>\n",
       "      <td>73.30</td>\n",
       "      <td>Comm&amp;Mgmt</td>\n",
       "      <td>96.8</td>\n",
       "      <td>1</td>\n",
       "      <td>425000</td>\n",
       "    </tr>\n",
       "    <tr>\n",
       "      <th>...</th>\n",
       "      <td>...</td>\n",
       "      <td>...</td>\n",
       "      <td>...</td>\n",
       "      <td>...</td>\n",
       "      <td>...</td>\n",
       "      <td>...</td>\n",
       "      <td>...</td>\n",
       "      <td>...</td>\n",
       "      <td>...</td>\n",
       "      <td>...</td>\n",
       "    </tr>\n",
       "    <tr>\n",
       "      <th>210</th>\n",
       "      <td>211</td>\n",
       "      <td>M</td>\n",
       "      <td>80.60</td>\n",
       "      <td>82.00</td>\n",
       "      <td>Commerce</td>\n",
       "      <td>77.60</td>\n",
       "      <td>Comm&amp;Mgmt</td>\n",
       "      <td>91.0</td>\n",
       "      <td>1</td>\n",
       "      <td>400000</td>\n",
       "    </tr>\n",
       "    <tr>\n",
       "      <th>211</th>\n",
       "      <td>212</td>\n",
       "      <td>M</td>\n",
       "      <td>58.00</td>\n",
       "      <td>60.00</td>\n",
       "      <td>Science</td>\n",
       "      <td>72.00</td>\n",
       "      <td>Sci&amp;Tech</td>\n",
       "      <td>74.0</td>\n",
       "      <td>1</td>\n",
       "      <td>275000</td>\n",
       "    </tr>\n",
       "    <tr>\n",
       "      <th>212</th>\n",
       "      <td>213</td>\n",
       "      <td>M</td>\n",
       "      <td>67.00</td>\n",
       "      <td>67.00</td>\n",
       "      <td>Commerce</td>\n",
       "      <td>73.00</td>\n",
       "      <td>Comm&amp;Mgmt</td>\n",
       "      <td>59.0</td>\n",
       "      <td>1</td>\n",
       "      <td>295000</td>\n",
       "    </tr>\n",
       "    <tr>\n",
       "      <th>213</th>\n",
       "      <td>214</td>\n",
       "      <td>F</td>\n",
       "      <td>74.00</td>\n",
       "      <td>66.00</td>\n",
       "      <td>Commerce</td>\n",
       "      <td>58.00</td>\n",
       "      <td>Comm&amp;Mgmt</td>\n",
       "      <td>70.0</td>\n",
       "      <td>1</td>\n",
       "      <td>204000</td>\n",
       "    </tr>\n",
       "    <tr>\n",
       "      <th>214</th>\n",
       "      <td>215</td>\n",
       "      <td>M</td>\n",
       "      <td>62.00</td>\n",
       "      <td>58.00</td>\n",
       "      <td>Science</td>\n",
       "      <td>53.00</td>\n",
       "      <td>Comm&amp;Mgmt</td>\n",
       "      <td>89.0</td>\n",
       "      <td>0</td>\n",
       "      <td>0</td>\n",
       "    </tr>\n",
       "  </tbody>\n",
       "</table>\n",
       "<p>215 rows × 10 columns</p>\n",
       "</div>"
      ],
      "text/plain": [
       "     S.No. gender  10th %  12th % 12th stream  Undergraduate %  \\\n",
       "0        1      M   67.00   91.00    Commerce            58.00   \n",
       "1        2      M   79.33   78.33     Science            77.48   \n",
       "2        3      M   65.00   68.00        Arts            64.00   \n",
       "3        4      M   56.00   52.00     Science            52.00   \n",
       "4        5      M   85.80   73.60    Commerce            73.30   \n",
       "..     ...    ...     ...     ...         ...              ...   \n",
       "210    211      M   80.60   82.00    Commerce            77.60   \n",
       "211    212      M   58.00   60.00     Science            72.00   \n",
       "212    213      M   67.00   67.00    Commerce            73.00   \n",
       "213    214      F   74.00   66.00    Commerce            58.00   \n",
       "214    215      M   62.00   58.00     Science            53.00   \n",
       "\n",
       "    Undergraduate Field  Employability test %  Status  Salary  \n",
       "0              Sci&Tech                  55.0       1  270000  \n",
       "1              Sci&Tech                  86.5       1  200000  \n",
       "2             Comm&Mgmt                  75.0       1  250000  \n",
       "3              Sci&Tech                  66.0       0       0  \n",
       "4             Comm&Mgmt                  96.8       1  425000  \n",
       "..                  ...                   ...     ...     ...  \n",
       "210           Comm&Mgmt                  91.0       1  400000  \n",
       "211            Sci&Tech                  74.0       1  275000  \n",
       "212           Comm&Mgmt                  59.0       1  295000  \n",
       "213           Comm&Mgmt                  70.0       1  204000  \n",
       "214           Comm&Mgmt                  89.0       0       0  \n",
       "\n",
       "[215 rows x 10 columns]"
      ]
     },
     "execution_count": 25,
     "metadata": {},
     "output_type": "execute_result"
    }
   ],
   "source": [
    "dataset"
   ]
  },
  {
   "cell_type": "code",
   "execution_count": 22,
   "metadata": {},
   "outputs": [
    {
     "data": {
      "image/png": "[encoded data removed]",
      "text/plain": [
       "<Figure size 432x288 with 1 Axes>"
      ]
     },
     "metadata": {
      "needs_background": "light"
     },
     "output_type": "display_data"
    }
   ],
   "source": [
    "dataset.plot(x='Undergraduate %', y='Salary',style='o' )    \n",
    "plt.title('Undergraduate % vs Salary')    \n",
    "plt.xlabel('Undergraduate %')    \n",
    "plt.ylabel('Salary')    \n",
    "plt.show()"
   ]
  },
  {
   "cell_type": "code",
   "execution_count": 29,
   "metadata": {},
   "outputs": [
    {
     "data": {
      "image/png": "[encoded data removed]",
      "text/plain": [
       "<Figure size 432x288 with 1 Axes>"
      ]
     },
     "metadata": {
      "needs_background": "light"
     },
     "output_type": "display_data"
    }
   ],
   "source": [
    "dataset.plot(x='Employability test %', y='Salary',style='o' )    \n",
    "plt.title('Employability test % vs Salary')    \n",
    "plt.xlabel('Employability test %')    \n",
    "plt.ylabel('Salary')    \n",
    "plt.show()"
   ]
  },
  {
   "cell_type": "code",
   "execution_count": 30,
   "metadata": {},
   "outputs": [],
   "source": [
    "new_set = dataset.drop(['S.No.', 'gender','10th %','12th %','12th stream', 'Undergraduate %', 'Undergraduate Field', 'Status'], axis=1)"
   ]
  },
  {
   "cell_type": "code",
   "execution_count": 31,
   "metadata": {},
   "outputs": [
    {
     "data": {
      "text/html": [
       "<div>\n",
       "<style scoped>\n",
       "    .dataframe tbody tr th:only-of-type {\n",
       "        vertical-align: middle;\n",
       "    }\n",
       "\n",
       "    .dataframe tbody tr th {\n",
       "        vertical-align: top;\n",
       "    }\n",
       "\n",
       "    .dataframe thead th {\n",
       "        text-align: right;\n",
       "    }\n",
       "</style>\n",
       "<table border=\"1\" class=\"dataframe\">\n",
       "  <thead>\n",
       "    <tr style=\"text-align: right;\">\n",
       "      <th></th>\n",
       "      <th>Employability test %</th>\n",
       "      <th>Salary</th>\n",
       "    </tr>\n",
       "  </thead>\n",
       "  <tbody>\n",
       "    <tr>\n",
       "      <th>0</th>\n",
       "      <td>55.0</td>\n",
       "      <td>270000</td>\n",
       "    </tr>\n",
       "    <tr>\n",
       "      <th>1</th>\n",
       "      <td>86.5</td>\n",
       "      <td>200000</td>\n",
       "    </tr>\n",
       "    <tr>\n",
       "      <th>2</th>\n",
       "      <td>75.0</td>\n",
       "      <td>250000</td>\n",
       "    </tr>\n",
       "    <tr>\n",
       "      <th>3</th>\n",
       "      <td>66.0</td>\n",
       "      <td>0</td>\n",
       "    </tr>\n",
       "    <tr>\n",
       "      <th>4</th>\n",
       "      <td>96.8</td>\n",
       "      <td>425000</td>\n",
       "    </tr>\n",
       "    <tr>\n",
       "      <th>...</th>\n",
       "      <td>...</td>\n",
       "      <td>...</td>\n",
       "    </tr>\n",
       "    <tr>\n",
       "      <th>210</th>\n",
       "      <td>91.0</td>\n",
       "      <td>400000</td>\n",
       "    </tr>\n",
       "    <tr>\n",
       "      <th>211</th>\n",
       "      <td>74.0</td>\n",
       "      <td>275000</td>\n",
       "    </tr>\n",
       "    <tr>\n",
       "      <th>212</th>\n",
       "      <td>59.0</td>\n",
       "      <td>295000</td>\n",
       "    </tr>\n",
       "    <tr>\n",
       "      <th>213</th>\n",
       "      <td>70.0</td>\n",
       "      <td>204000</td>\n",
       "    </tr>\n",
       "    <tr>\n",
       "      <th>214</th>\n",
       "      <td>89.0</td>\n",
       "      <td>0</td>\n",
       "    </tr>\n",
       "  </tbody>\n",
       "</table>\n",
       "<p>215 rows × 2 columns</p>\n",
       "</div>"
      ],
      "text/plain": [
       "     Employability test %  Salary\n",
       "0                    55.0  270000\n",
       "1                    86.5  200000\n",
       "2                    75.0  250000\n",
       "3                    66.0       0\n",
       "4                    96.8  425000\n",
       "..                    ...     ...\n",
       "210                  91.0  400000\n",
       "211                  74.0  275000\n",
       "212                  59.0  295000\n",
       "213                  70.0  204000\n",
       "214                  89.0       0\n",
       "\n",
       "[215 rows x 2 columns]"
      ]
     },
     "execution_count": 31,
     "metadata": {},
     "output_type": "execute_result"
    }
   ],
   "source": [
    "new_set"
   ]
  },
  {
   "cell_type": "code",
   "execution_count": 32,
   "metadata": {},
   "outputs": [
    {
     "data": {
      "text/html": [
       "<div>\n",
       "<style scoped>\n",
       "    .dataframe tbody tr th:only-of-type {\n",
       "        vertical-align: middle;\n",
       "    }\n",
       "\n",
       "    .dataframe tbody tr th {\n",
       "        vertical-align: top;\n",
       "    }\n",
       "\n",
       "    .dataframe thead th {\n",
       "        text-align: right;\n",
       "    }\n",
       "</style>\n",
       "<table border=\"1\" class=\"dataframe\">\n",
       "  <thead>\n",
       "    <tr style=\"text-align: right;\">\n",
       "      <th></th>\n",
       "      <th>Employability test %</th>\n",
       "      <th>Salary</th>\n",
       "    </tr>\n",
       "  </thead>\n",
       "  <tbody>\n",
       "    <tr>\n",
       "      <th>0</th>\n",
       "      <td>55.0</td>\n",
       "      <td>270000</td>\n",
       "    </tr>\n",
       "    <tr>\n",
       "      <th>1</th>\n",
       "      <td>86.5</td>\n",
       "      <td>200000</td>\n",
       "    </tr>\n",
       "    <tr>\n",
       "      <th>2</th>\n",
       "      <td>75.0</td>\n",
       "      <td>250000</td>\n",
       "    </tr>\n",
       "    <tr>\n",
       "      <th>3</th>\n",
       "      <td>66.0</td>\n",
       "      <td>0</td>\n",
       "    </tr>\n",
       "    <tr>\n",
       "      <th>4</th>\n",
       "      <td>96.8</td>\n",
       "      <td>425000</td>\n",
       "    </tr>\n",
       "  </tbody>\n",
       "</table>\n",
       "</div>"
      ],
      "text/plain": [
       "   Employability test %  Salary\n",
       "0                  55.0  270000\n",
       "1                  86.5  200000\n",
       "2                  75.0  250000\n",
       "3                  66.0       0\n",
       "4                  96.8  425000"
      ]
     },
     "execution_count": 32,
     "metadata": {},
     "output_type": "execute_result"
    }
   ],
   "source": [
    "new_set.head()\n"
   ]
  },
  {
   "cell_type": "code",
   "execution_count": 37,
   "metadata": {},
   "outputs": [],
   "source": [
    "x=new_set.iloc[:,0]\n",
    "\n"
   ]
  },
  {
   "cell_type": "code",
   "execution_count": 36,
   "metadata": {},
   "outputs": [
    {
     "data": {
      "text/plain": [
       "(215,)"
      ]
     },
     "execution_count": 36,
     "metadata": {},
     "output_type": "execute_result"
    }
   ],
   "source": [
    "x.shape"
   ]
  },
  {
   "cell_type": "code",
   "execution_count": 38,
   "metadata": {},
   "outputs": [],
   "source": [
    "x=new_set.iloc[:,0].values.reshape(-1,1)"
   ]
  },
  {
   "cell_type": "code",
   "execution_count": 39,
   "metadata": {},
   "outputs": [
    {
     "data": {
      "text/plain": [
       "(215, 1)"
      ]
     },
     "execution_count": 39,
     "metadata": {},
     "output_type": "execute_result"
    }
   ],
   "source": [
    "x.shape\n"
   ]
  },
  {
   "cell_type": "code",
   "execution_count": 40,
   "metadata": {},
   "outputs": [
    {
     "data": {
      "text/plain": [
       "array([[55.  ],\n",
       "       [86.5 ],\n",
       "       [75.  ],\n",
       "       [66.  ],\n",
       "       [96.8 ],\n",
       "       [55.  ],\n",
       "       [74.28],\n",
       "       [67.  ],\n",
       "       [91.34],\n",
       "       [54.  ],\n",
       "       [62.  ],\n",
       "       [60.  ],\n",
       "       [62.  ],\n",
       "       [68.  ],\n",
       "       [76.  ],\n",
       "       [72.  ],\n",
       "       [60.  ],\n",
       "       [60.  ],\n",
       "       [68.  ],\n",
       "       [50.48],\n",
       "       [50.  ],\n",
       "       [95.  ],\n",
       "       [55.53],\n",
       "       [92.  ],\n",
       "       [97.4 ],\n",
       "       [76.  ],\n",
       "       [94.  ],\n",
       "       [68.  ],\n",
       "       [73.35],\n",
       "       [77.  ],\n",
       "       [52.  ],\n",
       "       [64.  ],\n",
       "       [50.89],\n",
       "       [88.  ],\n",
       "       [68.44],\n",
       "       [71.  ],\n",
       "       [64.  ],\n",
       "       [58.  ],\n",
       "       [53.7 ],\n",
       "       [93.  ],\n",
       "       [60.  ],\n",
       "       [65.  ],\n",
       "       [63.  ],\n",
       "       [95.  ],\n",
       "       [89.  ],\n",
       "       [58.  ],\n",
       "       [68.  ],\n",
       "       [78.  ],\n",
       "       [64.  ],\n",
       "       [65.  ],\n",
       "       [65.  ],\n",
       "       [67.  ],\n",
       "       [71.2 ],\n",
       "       [87.  ],\n",
       "       [78.  ],\n",
       "       [71.  ],\n",
       "       [68.  ],\n",
       "       [80.  ],\n",
       "       [74.  ],\n",
       "       [57.6 ],\n",
       "       [60.  ],\n",
       "       [61.6 ],\n",
       "       [59.  ],\n",
       "       [68.5 ],\n",
       "       [61.  ],\n",
       "       [89.69],\n",
       "       [68.92],\n",
       "       [68.71],\n",
       "       [79.  ],\n",
       "       [70.  ],\n",
       "       [89.  ],\n",
       "       [95.  ],\n",
       "       [95.5 ],\n",
       "       [86.  ],\n",
       "       [84.27],\n",
       "       [74.  ],\n",
       "       [61.  ],\n",
       "       [69.  ],\n",
       "       [86.04],\n",
       "       [75.  ],\n",
       "       [67.  ],\n",
       "       [86.  ],\n",
       "       [82.  ],\n",
       "       [84.  ],\n",
       "       [55.  ],\n",
       "       [78.74],\n",
       "       [67.  ],\n",
       "       [75.  ],\n",
       "       [58.  ],\n",
       "       [62.  ],\n",
       "       [92.  ],\n",
       "       [67.  ],\n",
       "       [72.  ],\n",
       "       [72.  ],\n",
       "       [53.88],\n",
       "       [95.46],\n",
       "       [66.  ],\n",
       "       [93.91],\n",
       "       [70.  ],\n",
       "       [50.  ],\n",
       "       [56.39],\n",
       "       [78.  ],\n",
       "       [57.5 ],\n",
       "       [85.  ],\n",
       "       [55.  ],\n",
       "       [85.  ],\n",
       "       [71.  ],\n",
       "       [80.  ],\n",
       "       [84.  ],\n",
       "       [86.  ],\n",
       "       [57.2 ],\n",
       "       [60.  ],\n",
       "       [58.  ],\n",
       "       [72.15],\n",
       "       [53.7 ],\n",
       "       [89.  ],\n",
       "       [96.  ],\n",
       "       [80.  ],\n",
       "       [97.  ],\n",
       "       [82.66],\n",
       "       [73.  ],\n",
       "       [55.67],\n",
       "       [80.4 ],\n",
       "       [60.  ],\n",
       "       [64.  ],\n",
       "       [75.  ],\n",
       "       [70.  ],\n",
       "       [55.5 ],\n",
       "       [81.2 ],\n",
       "       [90.  ],\n",
       "       [84.  ],\n",
       "       [80.  ],\n",
       "       [74.4 ],\n",
       "       [65.  ],\n",
       "       [94.  ],\n",
       "       [55.6 ],\n",
       "       [78.  ],\n",
       "       [56.  ],\n",
       "       [96.  ],\n",
       "       [58.  ],\n",
       "       [56.  ],\n",
       "       [60.  ],\n",
       "       [60.  ],\n",
       "       [89.  ],\n",
       "       [60.  ],\n",
       "       [72.  ],\n",
       "       [85.  ],\n",
       "       [83.  ],\n",
       "       [57.  ],\n",
       "       [64.25],\n",
       "       [56.  ],\n",
       "       [83.  ],\n",
       "       [98.  ],\n",
       "       [86.  ],\n",
       "       [70.  ],\n",
       "       [56.15],\n",
       "       [80.  ],\n",
       "       [93.4 ],\n",
       "       [60.  ],\n",
       "       [62.  ],\n",
       "       [75.  ],\n",
       "       [57.63],\n",
       "       [75.2 ],\n",
       "       [75.  ],\n",
       "       [53.04],\n",
       "       [80.  ],\n",
       "       [63.  ],\n",
       "       [58.1 ],\n",
       "       [60.  ],\n",
       "       [54.48],\n",
       "       [58.06],\n",
       "       [63.79],\n",
       "       [84.  ],\n",
       "       [67.  ],\n",
       "       [64.  ],\n",
       "       [87.5 ],\n",
       "       [55.  ],\n",
       "       [89.  ],\n",
       "       [73.  ],\n",
       "       [75.5 ],\n",
       "       [57.  ],\n",
       "       [63.  ],\n",
       "       [75.  ],\n",
       "       [60.  ],\n",
       "       [60.  ],\n",
       "       [82.  ],\n",
       "       [55.  ],\n",
       "       [95.  ],\n",
       "       [57.  ],\n",
       "       [95.65],\n",
       "       [50.  ],\n",
       "       [72.  ],\n",
       "       [93.4 ],\n",
       "       [80.  ],\n",
       "       [59.  ],\n",
       "       [84.  ],\n",
       "       [78.  ],\n",
       "       [59.32],\n",
       "       [88.  ],\n",
       "       [73.  ],\n",
       "       [87.55],\n",
       "       [79.  ],\n",
       "       [61.28],\n",
       "       [66.  ],\n",
       "       [80.  ],\n",
       "       [62.  ],\n",
       "       [97.  ],\n",
       "       [88.56],\n",
       "       [92.66],\n",
       "       [67.  ],\n",
       "       [91.  ],\n",
       "       [74.  ],\n",
       "       [59.  ],\n",
       "       [70.  ],\n",
       "       [89.  ]])"
      ]
     },
     "execution_count": 40,
     "metadata": {},
     "output_type": "execute_result"
    }
   ],
   "source": [
    "x"
   ]
  },
  {
   "cell_type": "code",
   "execution_count": 41,
   "metadata": {},
   "outputs": [],
   "source": [
    "y = new_set.iloc[:,1]\n"
   ]
  },
  {
   "cell_type": "code",
   "execution_count": 43,
   "metadata": {},
   "outputs": [
    {
     "data": {
      "text/plain": [
       "(215,)"
      ]
     },
     "execution_count": 43,
     "metadata": {},
     "output_type": "execute_result"
    }
   ],
   "source": [
    "y.shape"
   ]
  },
  {
   "cell_type": "code",
   "execution_count": 44,
   "metadata": {},
   "outputs": [],
   "source": [
    "y=new_set.iloc[:,1].values.reshape(-1,1)"
   ]
  },
  {
   "cell_type": "code",
   "execution_count": 45,
   "metadata": {},
   "outputs": [
    {
     "data": {
      "text/plain": [
       "array([[270000],\n",
       "       [200000],\n",
       "       [250000],\n",
       "       [     0],\n",
       "       [425000],\n",
       "       [     0],\n",
       "       [     0],\n",
       "       [252000],\n",
       "       [231000],\n",
       "       [     0],\n",
       "       [260000],\n",
       "       [250000],\n",
       "       [     0],\n",
       "       [218000],\n",
       "       [     0],\n",
       "       [200000],\n",
       "       [300000],\n",
       "       [     0],\n",
       "       [     0],\n",
       "       [236000],\n",
       "       [265000],\n",
       "       [393000],\n",
       "       [360000],\n",
       "       [300000],\n",
       "       [360000],\n",
       "       [     0],\n",
       "       [240000],\n",
       "       [265000],\n",
       "       [350000],\n",
       "       [     0],\n",
       "       [250000],\n",
       "       [     0],\n",
       "       [278000],\n",
       "       [260000],\n",
       "       [     0],\n",
       "       [300000],\n",
       "       [     0],\n",
       "       [320000],\n",
       "       [240000],\n",
       "       [411000],\n",
       "       [287000],\n",
       "       [     0],\n",
       "       [     0],\n",
       "       [300000],\n",
       "       [200000],\n",
       "       [     0],\n",
       "       [     0],\n",
       "       [204000],\n",
       "       [250000],\n",
       "       [     0],\n",
       "       [200000],\n",
       "       [     0],\n",
       "       [     0],\n",
       "       [450000],\n",
       "       [216000],\n",
       "       [220000],\n",
       "       [240000],\n",
       "       [360000],\n",
       "       [268000],\n",
       "       [265000],\n",
       "       [260000],\n",
       "       [300000],\n",
       "       [240000],\n",
       "       [     0],\n",
       "       [240000],\n",
       "       [     0],\n",
       "       [275000],\n",
       "       [275000],\n",
       "       [     0],\n",
       "       [275000],\n",
       "       [360000],\n",
       "       [240000],\n",
       "       [240000],\n",
       "       [218000],\n",
       "       [336000],\n",
       "       [     0],\n",
       "       [230000],\n",
       "       [500000],\n",
       "       [270000],\n",
       "       [     0],\n",
       "       [240000],\n",
       "       [300000],\n",
       "       [     0],\n",
       "       [300000],\n",
       "       [300000],\n",
       "       [400000],\n",
       "       [220000],\n",
       "       [     0],\n",
       "       [210000],\n",
       "       [210000],\n",
       "       [300000],\n",
       "       [     0],\n",
       "       [230000],\n",
       "       [     0],\n",
       "       [260000],\n",
       "       [420000],\n",
       "       [300000],\n",
       "       [     0],\n",
       "       [220000],\n",
       "       [     0],\n",
       "       [     0],\n",
       "       [380000],\n",
       "       [300000],\n",
       "       [240000],\n",
       "       [360000],\n",
       "       [     0],\n",
       "       [     0],\n",
       "       [200000],\n",
       "       [300000],\n",
       "       [     0],\n",
       "       [250000],\n",
       "       [     0],\n",
       "       [250000],\n",
       "       [280000],\n",
       "       [250000],\n",
       "       [216000],\n",
       "       [300000],\n",
       "       [240000],\n",
       "       [276000],\n",
       "       [940000],\n",
       "       [     0],\n",
       "       [250000],\n",
       "       [236000],\n",
       "       [240000],\n",
       "       [250000],\n",
       "       [350000],\n",
       "       [210000],\n",
       "       [250000],\n",
       "       [400000],\n",
       "       [250000],\n",
       "       [     0],\n",
       "       [360000],\n",
       "       [300000],\n",
       "       [250000],\n",
       "       [250000],\n",
       "       [200000],\n",
       "       [     0],\n",
       "       [225000],\n",
       "       [250000],\n",
       "       [220000],\n",
       "       [265000],\n",
       "       [     0],\n",
       "       [260000],\n",
       "       [300000],\n",
       "       [     0],\n",
       "       [400000],\n",
       "       [233000],\n",
       "       [300000],\n",
       "       [240000],\n",
       "       [     0],\n",
       "       [690000],\n",
       "       [270000],\n",
       "       [240000],\n",
       "       [340000],\n",
       "       [250000],\n",
       "       [     0],\n",
       "       [255000],\n",
       "       [300000],\n",
       "       [     0],\n",
       "       [     0],\n",
       "       [300000],\n",
       "       [     0],\n",
       "       [285000],\n",
       "       [500000],\n",
       "       [250000],\n",
       "       [     0],\n",
       "       [240000],\n",
       "       [     0],\n",
       "       [     0],\n",
       "       [     0],\n",
       "       [     0],\n",
       "       [290000],\n",
       "       [300000],\n",
       "       [     0],\n",
       "       [500000],\n",
       "       [     0],\n",
       "       [220000],\n",
       "       [650000],\n",
       "       [350000],\n",
       "       [     0],\n",
       "       [265000],\n",
       "       [     0],\n",
       "       [     0],\n",
       "       [276000],\n",
       "       [     0],\n",
       "       [252000],\n",
       "       [     0],\n",
       "       [280000],\n",
       "       [     0],\n",
       "       [     0],\n",
       "       [     0],\n",
       "       [264000],\n",
       "       [270000],\n",
       "       [300000],\n",
       "       [     0],\n",
       "       [275000],\n",
       "       [250000],\n",
       "       [260000],\n",
       "       [     0],\n",
       "       [265000],\n",
       "       [300000],\n",
       "       [     0],\n",
       "       [240000],\n",
       "       [260000],\n",
       "       [210000],\n",
       "       [250000],\n",
       "       [     0],\n",
       "       [300000],\n",
       "       [     0],\n",
       "       [216000],\n",
       "       [400000],\n",
       "       [275000],\n",
       "       [295000],\n",
       "       [204000],\n",
       "       [     0]], dtype=int64)"
      ]
     },
     "execution_count": 45,
     "metadata": {},
     "output_type": "execute_result"
    }
   ],
   "source": [
    "y"
   ]
  },
  {
   "cell_type": "code",
   "execution_count": 46,
   "metadata": {},
   "outputs": [
    {
     "data": {
      "text/plain": [
       "<matplotlib.collections.PathCollection at 0x1cb075a7430>"
      ]
     },
     "execution_count": 46,
     "metadata": {},
     "output_type": "execute_result"
    },
    {
     "data": {
      "image/png": "[encoded data removed]",
      "text/plain": [
       "<Figure size 432x288 with 1 Axes>"
      ]
     },
     "metadata": {
      "needs_background": "light"
     },
     "output_type": "display_data"
    }
   ],
   "source": [
    "plt.scatter(x,y)"
   ]
  },
  {
   "cell_type": "code",
   "execution_count": 47,
   "metadata": {},
   "outputs": [],
   "source": [
    "from sklearn.model_selection import train_test_split"
   ]
  },
  {
   "cell_type": "code",
   "execution_count": 48,
   "metadata": {},
   "outputs": [],
   "source": [
    "x_train,x_test,y_train,y_test=train_test_split(x,y,test_size=0.2,random_state=0)"
   ]
  },
  {
   "cell_type": "code",
   "execution_count": 51,
   "metadata": {},
   "outputs": [
    {
     "data": {
      "text/plain": [
       "(172, 1)"
      ]
     },
     "execution_count": 51,
     "metadata": {},
     "output_type": "execute_result"
    }
   ],
   "source": [
    "x_train.shape\n"
   ]
  },
  {
   "cell_type": "code",
   "execution_count": 52,
   "metadata": {},
   "outputs": [
    {
     "data": {
      "text/plain": [
       "(43, 1)"
      ]
     },
     "execution_count": 52,
     "metadata": {},
     "output_type": "execute_result"
    }
   ],
   "source": [
    "x_test.shape\n"
   ]
  },
  {
   "cell_type": "code",
   "execution_count": 53,
   "metadata": {},
   "outputs": [
    {
     "data": {
      "text/plain": [
       "(172, 1)"
      ]
     },
     "execution_count": 53,
     "metadata": {},
     "output_type": "execute_result"
    }
   ],
   "source": [
    "y_train.shape\n"
   ]
  },
  {
   "cell_type": "code",
   "execution_count": 54,
   "metadata": {},
   "outputs": [
    {
     "data": {
      "text/plain": [
       "(43, 1)"
      ]
     },
     "execution_count": 54,
     "metadata": {},
     "output_type": "execute_result"
    }
   ],
   "source": [
    "y_test.shape"
   ]
  },
  {
   "cell_type": "code",
   "execution_count": 55,
   "metadata": {},
   "outputs": [],
   "source": [
    "from sklearn.linear_model import LinearRegression"
   ]
  },
  {
   "cell_type": "code",
   "execution_count": 56,
   "metadata": {},
   "outputs": [
    {
     "data": {
      "text/plain": [
       "LinearRegression()"
      ]
     },
     "execution_count": 56,
     "metadata": {},
     "output_type": "execute_result"
    }
   ],
   "source": [
    "lr = LinearRegression()\n",
    "lr.fit(x_train,y_train)"
   ]
  },
  {
   "cell_type": "code",
   "execution_count": 57,
   "metadata": {},
   "outputs": [],
   "source": [
    "y_pred=lr.predict(x_test)"
   ]
  },
  {
   "cell_type": "code",
   "execution_count": 59,
   "metadata": {},
   "outputs": [
    {
     "data": {
      "text/plain": [
       "array([[234765.43394657],\n",
       "       [179795.22969018],\n",
       "       [187124.5902577 ],\n",
       "       [183459.90997394],\n",
       "       [190404.47911167],\n",
       "       [209112.67196026],\n",
       "       [194453.95082522],\n",
       "       [176130.54940642],\n",
       "       [174298.20926454],\n",
       "       [227436.07337905],\n",
       "       [203615.65153462],\n",
       "       [205447.9916765 ],\n",
       "       [210945.01210213],\n",
       "       [179795.22969018],\n",
       "       [227930.80521736],\n",
       "       [194453.95082522],\n",
       "       [201783.31139274],\n",
       "       [187124.5902577 ],\n",
       "       [231100.75366281],\n",
       "       [183459.90997394],\n",
       "       [173345.39239077],\n",
       "       [183459.90997394],\n",
       "       [196286.2909671 ],\n",
       "       [165136.50855515],\n",
       "       [183459.90997394],\n",
       "       [198118.63110898],\n",
       "       [223771.39309529],\n",
       "       [205447.9916765 ],\n",
       "       [196286.2909671 ],\n",
       "       [247591.81493972],\n",
       "       [196286.2909671 ],\n",
       "       [199034.80117992],\n",
       "       [236597.77408845],\n",
       "       [245594.56418508],\n",
       "       [216442.03252777],\n",
       "       [211311.48013051],\n",
       "       [234765.43394657],\n",
       "       [201783.31139274],\n",
       "       [242094.79451409],\n",
       "       [209112.67196026],\n",
       "       [203615.65153462],\n",
       "       [188956.93039958],\n",
       "       [179795.22969018]])"
      ]
     },
     "execution_count": 59,
     "metadata": {},
     "output_type": "execute_result"
    }
   ],
   "source": [
    "y_pred"
   ]
  },
  {
   "cell_type": "code",
   "execution_count": 60,
   "metadata": {},
   "outputs": [
    {
     "data": {
      "text/plain": [
       "[<matplotlib.lines.Line2D at 0x1cb0998a670>]"
      ]
     },
     "execution_count": 60,
     "metadata": {},
     "output_type": "execute_result"
    },
    {
     "data": {
      "image/png": "[encoded data removed]",
      "text/plain": [
       "<Figure size 432x288 with 1 Axes>"
      ]
     },
     "metadata": {
      "needs_background": "light"
     },
     "output_type": "display_data"
    }
   ],
   "source": [
    "plt.scatter(x,y, color = 'yellow')\n",
    "plt.plot(x_test,y_pred, color = 'blue')"
   ]
  },
  {
   "cell_type": "code",
   "execution_count": null,
   "metadata": {},
   "outputs": [],
   "source": []
  }
 ],
 "metadata": {
  "kernelspec": {
   "display_name": "Python 3",
   "language": "python",
   "name": "python3"
  },
  "language_info": {
   "codemirror_mode": {
    "name": "ipython",
    "version": 3
   },
   "file_extension": ".py",
   "mimetype": "text/x-python",
   "name": "python",
   "nbconvert_exporter": "python",
   "pygments_lexer": "ipython3",
   "version": "3.8.5"
  }
 },
 "nbformat": 4,
 "nbformat_minor": 4
}
